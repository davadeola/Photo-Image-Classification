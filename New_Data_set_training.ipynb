{
  "nbformat": 4,
  "nbformat_minor": 0,
  "metadata": {
    "colab": {
      "name": "New Data-set training",
      "provenance": [],
      "mount_file_id": "1BwMkyiKQ3Ml-IePKZ9ueL-ih9qUKCQJb",
      "authorship_tag": "ABX9TyM44d68E7RNnNzrgkljDPc0",
      "include_colab_link": true
    },
    "kernelspec": {
      "name": "python3",
      "display_name": "Python 3"
    },
    "language_info": {
      "name": "python"
    },
    "accelerator": "GPU"
  },
  "cells": [
    {
      "cell_type": "markdown",
      "metadata": {
        "id": "view-in-github",
        "colab_type": "text"
      },
      "source": [
        "<a href=\"https://colab.research.google.com/github/davadeola/Photo-Image-Classification/blob/main/New_Data_set_training.ipynb\" target=\"_parent\"><img src=\"https://colab.research.google.com/assets/colab-badge.svg\" alt=\"Open In Colab\"/></a>"
      ]
    },
    {
      "cell_type": "code",
      "execution_count": 1,
      "metadata": {
        "id": "b-WbuTLwO2nq"
      },
      "outputs": [],
      "source": [
        "train_path='/content/drive/MyDrive/new-dataset/train'\n",
        "test_path='/content/drive/MyDrive/new-dataset/test'"
      ]
    },
    {
      "cell_type": "code",
      "source": [
        "import numpy as np\n",
        "import matplotlib.pyplot as plt\n",
        "import pandas as pd\n",
        "import sklearn\n",
        "import math\n",
        "import warnings\n",
        "warnings.filterwarnings(\"ignore\")"
      ],
      "metadata": {
        "id": "7LNwsB_ATge8"
      },
      "execution_count": 2,
      "outputs": []
    },
    {
      "cell_type": "code",
      "source": [
        "import keras\n",
        "from keras.applications.inception_v3 import InceptionV3\n",
        "from keras.models import Model,load_model\n",
        "conv_base =  InceptionV3(weights='imagenet',include_top=False,\n",
        "                         input_shape=(300, 300, 3))\n",
        "output = conv_base.layers[-1].output\n",
        "output = keras.layers.Flatten()(output)\n",
        "model_tl = Model(conv_base.input, output)\n",
        "model_tl.trainable = False\n",
        "\n",
        "for layer in model_tl.layers:\n",
        "    layer.trainable = False\n",
        "    layers = [(layer, layer.name, layer.trainable) for layer in model_tl.layers]\n",
        "    model_layers=pd.DataFrame(layers, columns=['Layer Type', 'Layer Name', 'Layer Trainable'])\n",
        "print(model_layers) "
      ],
      "metadata": {
        "id": "YoFBXGTnTklM",
        "colab": {
          "base_uri": "https://localhost:8080/"
        },
        "outputId": "fbdf8df8-8cfa-47b0-8281-07643ea60b37"
      },
      "execution_count": 3,
      "outputs": [
        {
          "output_type": "stream",
          "name": "stdout",
          "text": [
            "Downloading data from https://storage.googleapis.com/tensorflow/keras-applications/inception_v3/inception_v3_weights_tf_dim_ordering_tf_kernels_notop.h5\n",
            "87916544/87910968 [==============================] - 1s 0us/step\n",
            "87924736/87910968 [==============================] - 1s 0us/step\n",
            "                                            Layer Type  ... Layer Trainable\n",
            "0    <keras.engine.input_layer.InputLayer object at...  ...           False\n",
            "1    <keras.layers.convolutional.Conv2D object at 0...  ...           False\n",
            "2    <keras.layers.normalization.batch_normalizatio...  ...           False\n",
            "3    <keras.layers.core.activation.Activation objec...  ...           False\n",
            "4    <keras.layers.convolutional.Conv2D object at 0...  ...           False\n",
            "..                                                 ...  ...             ...\n",
            "307  <keras.layers.merge.Concatenate object at 0x7f...  ...           False\n",
            "308  <keras.layers.merge.Concatenate object at 0x7f...  ...           False\n",
            "309  <keras.layers.core.activation.Activation objec...  ...           False\n",
            "310  <keras.layers.merge.Concatenate object at 0x7f...  ...           False\n",
            "311  <keras.layers.core.flatten.Flatten object at 0...  ...           False\n",
            "\n",
            "[312 rows x 3 columns]\n"
          ]
        }
      ]
    },
    {
      "cell_type": "code",
      "source": [
        "from keras.models import Sequential\n",
        "from keras.layers import Dense, Dropout, Conv2D, MaxPool2D, Flatten\n",
        "from keras.preprocessing.image import ImageDataGenerator\n",
        "from keras import optimizers\n",
        "\n",
        "test_size=400\n",
        "batch_size=32\n",
        "epochs=25\n",
        "\n",
        "target_size=(300,300) #resize all images to 300x300\n",
        "train_datagen = ImageDataGenerator(rescale=1./255, zoom_range=0.3,  \n",
        "                                   rotation_range=50,\n",
        "                                   width_shift_range=0.2, \n",
        "                                   height_shift_range=0.2, \n",
        "                                   shear_range=0.2,\n",
        "                                   horizontal_flip=True,\n",
        "                                   brightness_range = [0.8, 1.2],\n",
        "                                   fill_mode='nearest',        \n",
        "                                   validation_split=0.2)\n",
        "test_datagen = ImageDataGenerator(rescale=1./255)\n",
        "\n",
        "# The list of classes will be automatically inferred from the subdirectory names/structure under train_dir\n",
        "train_generator = train_datagen.flow_from_directory(\n",
        "                  train_path,\n",
        "                  target_size=target_size,#  \n",
        "                  batch_size=batch_size,\n",
        "                  class_mode='categorical',\n",
        "                  subset='training')\n",
        "validation_generator = train_datagen.flow_from_directory(\n",
        "                       train_path,\n",
        "                       target_size=target_size,\n",
        "                       batch_size=batch_size,\n",
        "                       class_mode='categorical',\n",
        "                       subset='validation')"
      ],
      "metadata": {
        "id": "eDd1Py9fTuhf",
        "colab": {
          "base_uri": "https://localhost:8080/"
        },
        "outputId": "935a19e5-c2e3-4443-af2c-afc32f4399a6"
      },
      "execution_count": 4,
      "outputs": [
        {
          "output_type": "stream",
          "name": "stdout",
          "text": [
            "Found 2556 images belonging to 4 classes.\n",
            "Found 637 images belonging to 4 classes.\n"
          ]
        }
      ]
    },
    {
      "cell_type": "code",
      "source": [
        "from keras.models import Sequential\n",
        "from keras.layers import Dense, Dropout, Conv2D, MaxPool2D, Flatten\n",
        "from keras import optimizers\n",
        "import tensorflow as tf\n",
        "\n",
        "# building a linear stack of layers with the sequential model\n",
        "model =Sequential()\n",
        "model.add(model_tl)\n",
        "# hidden layer\n",
        "model.add(Dense(128, activation='relu'))\n",
        "model.add(Dropout(0.2))\n",
        "# output layer\n",
        "model.add(Dense(4, activation='softmax'))\n",
        "\n",
        "\n",
        "\n",
        "# compiling the sequential model\n",
        "model.compile(loss='categorical_crossentropy',\n",
        "              optimizer= tf.keras.optimizers.Adam(1e-5),\n",
        "              metrics=['acc'])\n",
        "print(model.summary())"
      ],
      "metadata": {
        "id": "JZ3zUy2NUKFb",
        "colab": {
          "base_uri": "https://localhost:8080/"
        },
        "outputId": "d9808622-5dfc-428e-d2f1-19d2a794c338"
      },
      "execution_count": 5,
      "outputs": [
        {
          "output_type": "stream",
          "name": "stdout",
          "text": [
            "Model: \"sequential\"\n",
            "_________________________________________________________________\n",
            " Layer (type)                Output Shape              Param #   \n",
            "=================================================================\n",
            " model (Functional)          (None, 131072)            21802784  \n",
            "                                                                 \n",
            " dense (Dense)               (None, 128)               16777344  \n",
            "                                                                 \n",
            " dropout (Dropout)           (None, 128)               0         \n",
            "                                                                 \n",
            " dense_1 (Dense)             (None, 4)                 516       \n",
            "                                                                 \n",
            "=================================================================\n",
            "Total params: 38,580,644\n",
            "Trainable params: 16,777,860\n",
            "Non-trainable params: 21,802,784\n",
            "_________________________________________________________________\n",
            "None\n"
          ]
        }
      ]
    },
    {
      "cell_type": "code",
      "source": [
        "from keras.callbacks import *\n",
        "filepath=\"/content/drive/My Drive/MyCNN/epochs:{epoch:03d}-val_acc:{val_acc:.3f}.hdf5\"\n",
        "\n",
        "checkpoint = ModelCheckpoint(filepath, \n",
        "                             monitor='val_acc', \n",
        "                             verbose=1,\n",
        "                             save_best_only=False,\n",
        "                             save_freq='epoch',     \n",
        "                             mode='max')\n",
        "callbacks_list = [EarlyStopping(patience = 5),checkpoint]"
      ],
      "metadata": {
        "id": "pxjtm_42Uaow"
      },
      "execution_count": 6,
      "outputs": []
    },
    {
      "cell_type": "code",
      "source": [
        "history = model.fit(\n",
        "          train_generator,\n",
        "          steps_per_epoch=train_generator.samples//batch_size,    \n",
        "          validation_data=validation_generator,\n",
        "          validation_steps=validation_generator.samples//batch_size,\n",
        "          epochs=epochs,\n",
        "          verbose=1,\n",
        "          shuffle=True,\n",
        "          callbacks=callbacks_list)"
      ],
      "metadata": {
        "id": "h9n0hsm0UuXz",
        "colab": {
          "base_uri": "https://localhost:8080/"
        },
        "outputId": "5f467c6f-0fff-4138-c46a-9c51e4d5d94e"
      },
      "execution_count": 7,
      "outputs": [
        {
          "output_type": "stream",
          "name": "stdout",
          "text": [
            "Epoch 1/25\n",
            "79/79 [==============================] - ETA: 0s - loss: 0.7518 - acc: 0.7009\n",
            "Epoch 00001: saving model to /content/drive/My Drive/MyCNN/epochs:001-val_acc:0.817.hdf5\n",
            "79/79 [==============================] - 953s 12s/step - loss: 0.7518 - acc: 0.7009 - val_loss: 0.4974 - val_acc: 0.8174\n",
            "Epoch 2/25\n",
            "79/79 [==============================] - ETA: 0s - loss: 0.4271 - acc: 0.8380\n",
            "Epoch 00002: saving model to /content/drive/My Drive/MyCNN/epochs:002-val_acc:0.880.hdf5\n",
            "79/79 [==============================] - 105s 1s/step - loss: 0.4271 - acc: 0.8380 - val_loss: 0.3373 - val_acc: 0.8799\n",
            "Epoch 3/25\n",
            "79/79 [==============================] - ETA: 0s - loss: 0.3701 - acc: 0.8586\n",
            "Epoch 00003: saving model to /content/drive/My Drive/MyCNN/epochs:003-val_acc:0.908.hdf5\n",
            "79/79 [==============================] - 104s 1s/step - loss: 0.3701 - acc: 0.8586 - val_loss: 0.2957 - val_acc: 0.9079\n",
            "Epoch 4/25\n",
            "79/79 [==============================] - ETA: 0s - loss: 0.3291 - acc: 0.8752\n",
            "Epoch 00004: saving model to /content/drive/My Drive/MyCNN/epochs:004-val_acc:0.898.hdf5\n",
            "79/79 [==============================] - 108s 1s/step - loss: 0.3291 - acc: 0.8752 - val_loss: 0.3053 - val_acc: 0.8980\n",
            "Epoch 5/25\n",
            "79/79 [==============================] - ETA: 0s - loss: 0.3271 - acc: 0.8760\n",
            "Epoch 00005: saving model to /content/drive/My Drive/MyCNN/epochs:005-val_acc:0.898.hdf5\n",
            "79/79 [==============================] - 106s 1s/step - loss: 0.3271 - acc: 0.8760 - val_loss: 0.3267 - val_acc: 0.8980\n",
            "Epoch 6/25\n",
            "79/79 [==============================] - ETA: 0s - loss: 0.2824 - acc: 0.8918\n",
            "Epoch 00006: saving model to /content/drive/My Drive/MyCNN/epochs:006-val_acc:0.903.hdf5\n",
            "79/79 [==============================] - 107s 1s/step - loss: 0.2824 - acc: 0.8918 - val_loss: 0.2836 - val_acc: 0.9030\n",
            "Epoch 7/25\n",
            "79/79 [==============================] - ETA: 0s - loss: 0.2658 - acc: 0.8982\n",
            "Epoch 00007: saving model to /content/drive/My Drive/MyCNN/epochs:007-val_acc:0.923.hdf5\n",
            "79/79 [==============================] - 105s 1s/step - loss: 0.2658 - acc: 0.8982 - val_loss: 0.2164 - val_acc: 0.9227\n",
            "Epoch 8/25\n",
            "79/79 [==============================] - ETA: 0s - loss: 0.2713 - acc: 0.9013\n",
            "Epoch 00008: saving model to /content/drive/My Drive/MyCNN/epochs:008-val_acc:0.901.hdf5\n",
            "79/79 [==============================] - 103s 1s/step - loss: 0.2713 - acc: 0.9013 - val_loss: 0.2549 - val_acc: 0.9013\n",
            "Epoch 9/25\n",
            "79/79 [==============================] - ETA: 0s - loss: 0.2550 - acc: 0.9081\n",
            "Epoch 00009: saving model to /content/drive/My Drive/MyCNN/epochs:009-val_acc:0.919.hdf5\n",
            "79/79 [==============================] - 103s 1s/step - loss: 0.2550 - acc: 0.9081 - val_loss: 0.2531 - val_acc: 0.9194\n",
            "Epoch 10/25\n",
            "79/79 [==============================] - ETA: 0s - loss: 0.2534 - acc: 0.9077\n",
            "Epoch 00010: saving model to /content/drive/My Drive/MyCNN/epochs:010-val_acc:0.926.hdf5\n",
            "79/79 [==============================] - 105s 1s/step - loss: 0.2534 - acc: 0.9077 - val_loss: 0.2159 - val_acc: 0.9260\n",
            "Epoch 11/25\n",
            "79/79 [==============================] - ETA: 0s - loss: 0.2462 - acc: 0.9132\n",
            "Epoch 00011: saving model to /content/drive/My Drive/MyCNN/epochs:011-val_acc:0.913.hdf5\n",
            "79/79 [==============================] - 105s 1s/step - loss: 0.2462 - acc: 0.9132 - val_loss: 0.2406 - val_acc: 0.9128\n",
            "Epoch 12/25\n",
            "79/79 [==============================] - ETA: 0s - loss: 0.2301 - acc: 0.9113\n",
            "Epoch 00012: saving model to /content/drive/My Drive/MyCNN/epochs:012-val_acc:0.929.hdf5\n",
            "79/79 [==============================] - 104s 1s/step - loss: 0.2301 - acc: 0.9113 - val_loss: 0.1916 - val_acc: 0.9293\n",
            "Epoch 13/25\n",
            "79/79 [==============================] - ETA: 0s - loss: 0.2258 - acc: 0.9140\n",
            "Epoch 00013: saving model to /content/drive/My Drive/MyCNN/epochs:013-val_acc:0.916.hdf5\n",
            "79/79 [==============================] - 103s 1s/step - loss: 0.2258 - acc: 0.9140 - val_loss: 0.2418 - val_acc: 0.9161\n",
            "Epoch 14/25\n",
            "79/79 [==============================] - ETA: 0s - loss: 0.2160 - acc: 0.9200\n",
            "Epoch 00014: saving model to /content/drive/My Drive/MyCNN/epochs:014-val_acc:0.933.hdf5\n",
            "79/79 [==============================] - 105s 1s/step - loss: 0.2160 - acc: 0.9200 - val_loss: 0.2214 - val_acc: 0.9326\n",
            "Epoch 15/25\n",
            "79/79 [==============================] - ETA: 0s - loss: 0.2012 - acc: 0.9263\n",
            "Epoch 00015: saving model to /content/drive/My Drive/MyCNN/epochs:015-val_acc:0.926.hdf5\n",
            "79/79 [==============================] - 104s 1s/step - loss: 0.2012 - acc: 0.9263 - val_loss: 0.1961 - val_acc: 0.9260\n",
            "Epoch 16/25\n",
            "79/79 [==============================] - ETA: 0s - loss: 0.2169 - acc: 0.9196\n",
            "Epoch 00016: saving model to /content/drive/My Drive/MyCNN/epochs:016-val_acc:0.916.hdf5\n",
            "79/79 [==============================] - 108s 1s/step - loss: 0.2169 - acc: 0.9196 - val_loss: 0.2269 - val_acc: 0.9161\n",
            "Epoch 17/25\n",
            "79/79 [==============================] - ETA: 0s - loss: 0.2087 - acc: 0.9216\n",
            "Epoch 00017: saving model to /content/drive/My Drive/MyCNN/epochs:017-val_acc:0.929.hdf5\n",
            "79/79 [==============================] - 105s 1s/step - loss: 0.2087 - acc: 0.9216 - val_loss: 0.1978 - val_acc: 0.9293\n"
          ]
        }
      ]
    },
    {
      "cell_type": "code",
      "source": [
        "# Model evaluation\n",
        "scores_train = model.evaluate(train_generator,verbose=1)\n",
        "scores_validation = model.evaluate(validation_generator,verbose=1)\n",
        "\n",
        "print(\"Train Accuracy: %.2f%%\" % (scores_train[1]*100))\n",
        "print(\"Validation Accuracy: %.2f%%\" % (scores_validation[1]*100))\n",
        "\n",
        "#For plotting Accuracy and Loss\n",
        "def LearningCurve(history):\n",
        "\n",
        "  # summarize history for accuracy\n",
        "  plt.plot(history.history['acc'])\n",
        "  plt.plot(history.history['val_acc'])\n",
        "  plt.title('model accuracy')\n",
        "  plt.ylabel('accuracy')\n",
        "  plt.xlabel('epoch')\n",
        "  plt.legend(['train', 'validation'], loc='upper left')\n",
        "  plt.show()\n",
        "\n",
        "  # summarize history for loss\n",
        "  plt.plot(history.history['loss'])\n",
        "  plt.plot(history.history['val_loss'])\n",
        "  plt.title('model loss')\n",
        "  plt.ylabel('loss')\n",
        "  plt.xlabel('epoch')\n",
        "  plt.legend(['train', 'validation'], loc='upper left')\n",
        "  plt.show()\n",
        "\n",
        "LearningCurve(history)\n",
        "\n",
        "#Save the trained model to a file \n",
        "model_weight_file='/content/drive/MyDrive/MyCNN/event_detect_model_transfer-fine.h5'\n",
        "model.save(model_weight_file)"
      ],
      "metadata": {
        "id": "L2eVyIImU0jz",
        "colab": {
          "base_uri": "https://localhost:8080/",
          "height": 641
        },
        "outputId": "ad014f0a-fbd1-43f7-915e-16215b0b60c4"
      },
      "execution_count": 8,
      "outputs": [
        {
          "output_type": "stream",
          "name": "stdout",
          "text": [
            "80/80 [==============================] - 79s 986ms/step - loss: 0.1667 - acc: 0.9370\n",
            "20/20 [==============================] - 27s 1s/step - loss: 0.2244 - acc: 0.9152\n",
            "Train Accuracy: 93.70%\n",
            "Validation Accuracy: 91.52%\n"
          ]
        },
        {
          "output_type": "display_data",
          "data": {
            "image/png": "[encoded data removed]",
            "text/plain": [
              "<Figure size 432x288 with 1 Axes>"
            ]
          },
          "metadata": {
            "needs_background": "light"
          }
        },
        {
          "output_type": "display_data",
          "data": {
            "image/png": "[encoded data removed]",
            "text/plain": [
              "<Figure size 432x288 with 1 Axes>"
            ]
          },
          "metadata": {
            "needs_background": "light"
          }
        }
      ]
    },
    {
      "cell_type": "code",
      "source": [
        "!pip install tensorflowjs\n",
        "import tensorflowjs as tfjs"
      ],
      "metadata": {
        "id": "hWFtRxP1Ghpi"
      },
      "execution_count": null,
      "outputs": []
    },
    {
      "cell_type": "code",
      "source": [
        "tfjs.converters.save_keras_model(\n",
        "    model,\n",
        "    \"/content/drive/MyDrive/MyCNN/model_js_fine_1\"\n",
        ")\n",
        "\n",
        "!zip -r /content/drive/MyDrive/MyCNN/event-detection-model-fine.zip /content/drive/MyDrive/MyCNN/model_js_fine_1"
      ],
      "metadata": {
        "colab": {
          "base_uri": "https://localhost:8080/"
        },
        "id": "Ca0xWk5zFbux",
        "outputId": "b66e862e-af61-42f9-a03c-499ea4d8b475"
      },
      "execution_count": 10,
      "outputs": [
        {
          "output_type": "stream",
          "name": "stdout",
          "text": [
            "  adding: content/drive/MyDrive/MyCNN/model_js_fine_1/ (stored 0%)\n",
            "  adding: content/drive/MyDrive/MyCNN/model_js_fine_1/group1-shard1of37.bin (deflated 9%)\n",
            "  adding: content/drive/MyDrive/MyCNN/model_js_fine_1/group1-shard2of37.bin (deflated 9%)\n",
            "  adding: content/drive/MyDrive/MyCNN/model_js_fine_1/group1-shard3of37.bin (deflated 9%)\n",
            "  adding: content/drive/MyDrive/MyCNN/model_js_fine_1/group1-shard4of37.bin (deflated 9%)\n",
            "  adding: content/drive/MyDrive/MyCNN/model_js_fine_1/group1-shard5of37.bin (deflated 9%)\n",
            "  adding: content/drive/MyDrive/MyCNN/model_js_fine_1/group1-shard6of37.bin (deflated 9%)\n",
            "  adding: content/drive/MyDrive/MyCNN/model_js_fine_1/group1-shard7of37.bin (deflated 9%)\n",
            "  adding: content/drive/MyDrive/MyCNN/model_js_fine_1/group1-shard8of37.bin (deflated 9%)\n",
            "  adding: content/drive/MyDrive/MyCNN/model_js_fine_1/group1-shard9of37.bin (deflated 9%)\n",
            "  adding: content/drive/MyDrive/MyCNN/model_js_fine_1/group1-shard10of37.bin (deflated 9%)\n",
            "  adding: content/drive/MyDrive/MyCNN/model_js_fine_1/group1-shard11of37.bin (deflated 9%)\n",
            "  adding: content/drive/MyDrive/MyCNN/model_js_fine_1/group1-shard12of37.bin (deflated 9%)\n",
            "  adding: content/drive/MyDrive/MyCNN/model_js_fine_1/group1-shard13of37.bin (deflated 9%)\n",
            "  adding: content/drive/MyDrive/MyCNN/model_js_fine_1/group1-shard14of37.bin (deflated 9%)\n",
            "  adding: content/drive/MyDrive/MyCNN/model_js_fine_1/group1-shard15of37.bin (deflated 9%)\n",
            "  adding: content/drive/MyDrive/MyCNN/model_js_fine_1/group1-shard16of37.bin (deflated 9%)\n",
            "  adding: content/drive/MyDrive/MyCNN/model_js_fine_1/group1-shard17of37.bin (deflated 7%)\n",
            "  adding: content/drive/MyDrive/MyCNN/model_js_fine_1/group1-shard18of37.bin (deflated 7%)\n",
            "  adding: content/drive/MyDrive/MyCNN/model_js_fine_1/group1-shard19of37.bin (deflated 7%)\n",
            "  adding: content/drive/MyDrive/MyCNN/model_js_fine_1/group1-shard20of37.bin (deflated 7%)\n",
            "  adding: content/drive/MyDrive/MyCNN/model_js_fine_1/group1-shard21of37.bin (deflated 7%)\n",
            "  adding: content/drive/MyDrive/MyCNN/model_js_fine_1/group1-shard22of37.bin (deflated 7%)\n",
            "  adding: content/drive/MyDrive/MyCNN/model_js_fine_1/group1-shard23of37.bin (deflated 7%)\n",
            "  adding: content/drive/MyDrive/MyCNN/model_js_fine_1/group1-shard24of37.bin (deflated 7%)\n",
            "  adding: content/drive/MyDrive/MyCNN/model_js_fine_1/group1-shard25of37.bin (deflated 7%)\n",
            "  adding: content/drive/MyDrive/MyCNN/model_js_fine_1/group1-shard26of37.bin (deflated 7%)\n",
            "  adding: content/drive/MyDrive/MyCNN/model_js_fine_1/group1-shard27of37.bin (deflated 7%)\n",
            "  adding: content/drive/MyDrive/MyCNN/model_js_fine_1/group1-shard28of37.bin (deflated 7%)\n",
            "  adding: content/drive/MyDrive/MyCNN/model_js_fine_1/group1-shard29of37.bin (deflated 7%)\n",
            "  adding: content/drive/MyDrive/MyCNN/model_js_fine_1/group1-shard30of37.bin (deflated 7%)\n",
            "  adding: content/drive/MyDrive/MyCNN/model_js_fine_1/group1-shard31of37.bin (deflated 7%)\n",
            "  adding: content/drive/MyDrive/MyCNN/model_js_fine_1/group1-shard32of37.bin (deflated 7%)\n",
            "  adding: content/drive/MyDrive/MyCNN/model_js_fine_1/group1-shard33of37.bin (deflated 7%)\n",
            "  adding: content/drive/MyDrive/MyCNN/model_js_fine_1/group1-shard34of37.bin (deflated 7%)\n",
            "  adding: content/drive/MyDrive/MyCNN/model_js_fine_1/group1-shard35of37.bin (deflated 7%)\n",
            "  adding: content/drive/MyDrive/MyCNN/model_js_fine_1/group1-shard36of37.bin (deflated 7%)\n",
            "  adding: content/drive/MyDrive/MyCNN/model_js_fine_1/group1-shard37of37.bin (deflated 7%)\n",
            "  adding: content/drive/MyDrive/MyCNN/model_js_fine_1/model.json (deflated 96%)\n"
          ]
        }
      ]
    }
  ]
}